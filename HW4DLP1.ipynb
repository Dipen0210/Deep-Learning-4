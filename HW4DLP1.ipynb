{
  "nbformat": 4,
  "nbformat_minor": 0,
  "metadata": {
    "colab": {
      "provenance": [],
      "gpuType": "T4"
    },
    "kernelspec": {
      "name": "python3",
      "display_name": "Python 3"
    },
    "language_info": {
      "name": "python"
    },
    "accelerator": "GPU"
  },
  "cells": [
    {
      "cell_type": "code",
      "execution_count": 1,
      "metadata": {
        "colab": {
          "base_uri": "https://localhost:8080/"
        },
        "id": "7h4jI06OAg0n",
        "outputId": "821466b0-9281-41d5-f3a9-a81c08418f06"
      },
      "outputs": [
        {
          "output_type": "stream",
          "name": "stderr",
          "text": [
            "100%|██████████| 9.91M/9.91M [00:00<00:00, 17.7MB/s]\n",
            "100%|██████████| 28.9k/28.9k [00:00<00:00, 486kB/s]\n",
            "100%|██████████| 1.65M/1.65M [00:00<00:00, 4.50MB/s]\n",
            "100%|██████████| 4.54k/4.54k [00:00<00:00, 8.78MB/s]\n",
            "/usr/local/lib/python3.11/dist-packages/torch/utils/data/dataloader.py:624: UserWarning: This DataLoader will create 4 worker processes in total. Our suggested max number of worker in current system is 2, which is smaller than what this DataLoader is going to create. Please be aware that excessive worker creation might get DataLoader running slow or even freeze, lower the worker number to avoid potential slowness/freeze if necessary.\n",
            "  warnings.warn(\n"
          ]
        }
      ],
      "source": [
        "import torch\n",
        "import torch.nn as nn\n",
        "import torch.nn.functional as F\n",
        "import torchvision\n",
        "import torchvision.transforms as transforms\n",
        "\n",
        "device = torch.device('cuda' if torch.cuda.is_available() else 'cpu')\n",
        "\n",
        "transform = transforms.Compose([\n",
        "    transforms.ToTensor(),\n",
        "    transforms.Normalize((0.1307,), (0.3081,)),\n",
        "    transforms.Lambda(lambda x: x.view(-1))])\n",
        "\n",
        "train_data = torchvision.datasets.MNIST(\n",
        "    root='data', train=True, download=True, transform=transform)\n",
        "\n",
        "test_data = torchvision.datasets.MNIST(\n",
        "    root='data', train=False, download=True, transform=transform)\n",
        "\n",
        "train_loader = torch.utils.data.DataLoader(train_data, batch_size=128,shuffle=True,num_workers=4, pin_memory=True)\n",
        "\n",
        "test_loader = torch.utils.data.DataLoader(\n",
        "    test_data, batch_size=1000, shuffle=False)\n"
      ]
    },
    {
      "cell_type": "code",
      "source": [
        "class MLP(nn.Module):\n",
        "    def __init__(self):\n",
        "        super().__init__()\n",
        "        self.fc1 = nn.Linear(784, 200)\n",
        "        self.fc2 = nn.Linear(200, 50)\n",
        "        self.fc3 = nn.Linear(50, 10)\n",
        "\n",
        "    def forward(self, x):\n",
        "        x = F.relu(self.fc1(x))\n",
        "        x = F.relu(self.fc2(x))\n",
        "        return self.fc3(x)\n",
        "\n",
        "def get_model():\n",
        "    return MLP().to(device)\n"
      ],
      "metadata": {
        "id": "UYaGIal8Am2_"
      },
      "execution_count": 2,
      "outputs": []
    },
    {
      "cell_type": "code",
      "source": [
        "def train_one_epoch(model, optimizer, scheduler=None):\n",
        "    model.train()\n",
        "    for data, target in train_loader:\n",
        "        data, target = data.to(device), target.to(device)\n",
        "        optimizer.zero_grad()\n",
        "        output = model(data)\n",
        "        loss = F.cross_entropy(output, target)\n",
        "        loss.backward()\n",
        "        optimizer.step()\n",
        "    if scheduler:\n",
        "        scheduler.step()\n",
        "\n",
        "def evaluate(model):\n",
        "    model.eval()\n",
        "    correct = 0\n",
        "    with torch.no_grad():\n",
        "        for data, target in test_loader:\n",
        "            data, target = data.to(device), target.to(device)\n",
        "            output = model(data)\n",
        "            preds = output.argmax(dim=1)\n",
        "            correct += (preds == target).sum().item()\n",
        "    acc = correct / len(test_loader.dataset)\n",
        "    return acc\n"
      ],
      "metadata": {
        "id": "c9XEOTkAApBE"
      },
      "execution_count": 3,
      "outputs": []
    },
    {
      "cell_type": "code",
      "source": [
        "num_epochs = 10\n",
        "results = {}\n",
        "\n",
        "for opt_name in ['SGD', 'SGD_Momentum', 'AdaGrad', 'RMSprop', 'Adam']:\n",
        "    print(f'\\nOptimizer: {opt_name}')\n",
        "    model = get_model()\n",
        "\n",
        "    if opt_name == 'SGD':\n",
        "        optimizer = torch.optim.SGD(model.parameters(), lr=0.01)\n",
        "        scheduler = torch.optim.lr_scheduler.StepLR(optimizer, step_size=5, gamma=0.5)\n",
        "    elif opt_name == 'SGD_Momentum':\n",
        "        optimizer = torch.optim.SGD(model.parameters(), lr=0.01, momentum=0.9)\n",
        "        scheduler = torch.optim.lr_scheduler.StepLR(optimizer, step_size=5, gamma=0.5)\n",
        "    elif opt_name == 'AdaGrad':\n",
        "        optimizer = torch.optim.Adagrad(model.parameters(), lr=0.01)\n",
        "        scheduler = None\n",
        "    elif opt_name == 'RMSprop':\n",
        "        optimizer = torch.optim.RMSprop(model.parameters(), lr=0.001, alpha=0.9)\n",
        "        scheduler = None\n",
        "    elif opt_name == 'Adam':\n",
        "        optimizer = torch.optim.Adam(model.parameters(), lr=0.001, betas=(0.9, 0.999))\n",
        "        scheduler = None\n",
        "\n",
        "    for epoch in range(1, num_epochs + 1):\n",
        "        train_one_epoch(model, optimizer, scheduler)\n",
        "        if epoch % 5 == 0:\n",
        "            acc = evaluate(model)\n",
        "            print(f'epoch {epoch:2d} Test Accuracy: {acc:.4f}')\n",
        "\n",
        "    final_acc = evaluate(model)\n",
        "    results[opt_name] = final_acc\n",
        "    print(f'Final test Acuracy ({opt_name}): {final_acc:.4f}')\n",
        "\n",
        "print('\\nsummary of test accuracies:')\n",
        "for name, acc in results.items():\n",
        "    print(f'  {name:15s}: {acc:.4f}')\n"
      ],
      "metadata": {
        "colab": {
          "base_uri": "https://localhost:8080/"
        },
        "id": "VS7XHcHQA2QL",
        "outputId": "edf1978a-591b-403d-ef87-dd666c79a91e"
      },
      "execution_count": 4,
      "outputs": [
        {
          "output_type": "stream",
          "name": "stdout",
          "text": [
            "\n",
            "Optimizer: SGD\n",
            "epoch  5 Test Accuracy: 0.9333\n",
            "epoch 10 Test Accuracy: 0.9422\n",
            "Final test Acuracy (SGD): 0.9422\n",
            "\n",
            "Optimizer: SGD_Momentum\n",
            "epoch  5 Test Accuracy: 0.9755\n",
            "epoch 10 Test Accuracy: 0.9787\n",
            "Final test Acuracy (SGD_Momentum): 0.9787\n",
            "\n",
            "Optimizer: AdaGrad\n",
            "epoch  5 Test Accuracy: 0.9740\n",
            "epoch 10 Test Accuracy: 0.9778\n",
            "Final test Acuracy (AdaGrad): 0.9778\n",
            "\n",
            "Optimizer: RMSprop\n",
            "epoch  5 Test Accuracy: 0.9744\n",
            "epoch 10 Test Accuracy: 0.9788\n",
            "Final test Acuracy (RMSprop): 0.9788\n",
            "\n",
            "Optimizer: Adam\n",
            "epoch  5 Test Accuracy: 0.9762\n",
            "epoch 10 Test Accuracy: 0.9786\n",
            "Final test Acuracy (Adam): 0.9786\n",
            "\n",
            "summary of test accuracies:\n",
            "  SGD            : 0.9422\n",
            "  SGD_Momentum   : 0.9787\n",
            "  AdaGrad        : 0.9778\n",
            "  RMSprop        : 0.9788\n",
            "  Adam           : 0.9786\n"
          ]
        }
      ]
    }
  ]
}